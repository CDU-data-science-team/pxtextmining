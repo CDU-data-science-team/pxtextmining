{
 "cells": [
  {
   "cell_type": "code",
   "execution_count": 9,
   "id": "93acd3c4",
   "metadata": {},
   "outputs": [],
   "source": [
    "from imblearn import FunctionSampler\n",
    "from imblearn.pipeline import Pipeline\n",
    "# from sklearn.pipeline import Pipeline\n",
    "from sklearn.metrics import make_scorer, accuracy_score, balanced_accuracy_score, matthews_corrcoef\n",
    "from sklearn.compose import ColumnTransformer\n",
    "from sklearn.preprocessing import FunctionTransformer, KBinsDiscretizer, OneHotEncoder, StandardScaler\n",
    "from sklearn.feature_extraction.text import TfidfVectorizer\n",
    "from sklearn.feature_selection import SelectPercentile, chi2, f_classif\n",
    "from sklearn.model_selection import RandomizedSearchCV\n",
    "# from sklearn.svm import LinearSVC\n",
    "from sklearn.linear_model import PassiveAggressiveClassifier, Perceptron, RidgeClassifier, SGDClassifier\n",
    "from sklearn.naive_bayes import BernoulliNB, ComplementNB, MultinomialNB\n",
    "from sklearn.neighbors import KNeighborsClassifier, NearestCentroid\n",
    "from sklearn.ensemble import RandomForestClassifier\n",
    "# from pxtextmining.helpers.decode_emojis import text_preprocessor\n",
    "from pxtextmining.helpers.sentiment_scores import sentiment_scores\n",
    "from pxtextmining.helpers.text_length import text_length\n",
    "from pxtextmining.helpers.tokenization import LemmaTokenizer\n",
    "from pxtextmining.helpers.word_vectorization import EmbeddingsTransformer\n",
    "from pxtextmining.helpers.oversampling import random_over_sampler_data_generator\n",
    "from pxtextmining.helpers.metrics import class_balance_accuracy_score\n",
    "from pxtextmining.helpers.estimator_switcher import ClfSwitcher\n",
    "from pxtextmining.helpers.ordinal_classification import OrdinalClassifier\n",
    "from pxtextmining.helpers.scaler_switcher import ScalerSwitcher\n",
    "from pxtextmining.helpers.feature_selection_switcher import FeatureSelectionSwitcher\n",
    "from pxtextmining.helpers.text_transformer_switcher import TextTransformerSwitcher\n",
    "from pxtextmining.helpers.theme_binarization import ThemeBinarizer"
   ]
  },
  {
   "cell_type": "code",
   "execution_count": 2,
   "id": "7d433fc9",
   "metadata": {},
   "outputs": [],
   "source": [
    "import pandas as pd\n",
    "\n",
    "from pxtextmining.factories.factory_data_load_and_split import factory_data_load_and_split\n"
   ]
  },
  {
   "cell_type": "code",
   "execution_count": 4,
   "id": "7c910dbb",
   "metadata": {},
   "outputs": [
    {
     "name": "stdout",
     "output_type": "stream",
     "text": [
      "Loading dataset...\n",
      "Shape of dataset before cleaning is (10334, 3)\n",
      "Shape of dataset after cleaning and processing is (10298, 10)\n",
      "Preparing training and test sets...\n",
      "Done\n"
     ]
    }
   ],
   "source": [
    "x_train, x_test, y_train, y_test, index_training_data, index_test_data = \\\n",
    "        factory_data_load_and_split(filename='../datasets/text_data.csv', target=\"criticality\", predictor=\"feedback\",\n",
    "                                 test_size=0.33, reduce_criticality=True,\n",
    "                                 theme=\"label\")"
   ]
  },
  {
   "cell_type": "code",
   "execution_count": 5,
   "id": "1a02b2ec",
   "metadata": {},
   "outputs": [
    {
     "data": {
      "text/html": [
       "<div>\n",
       "<style scoped>\n",
       "    .dataframe tbody tr th:only-of-type {\n",
       "        vertical-align: middle;\n",
       "    }\n",
       "\n",
       "    .dataframe tbody tr th {\n",
       "        vertical-align: top;\n",
       "    }\n",
       "\n",
       "    .dataframe thead th {\n",
       "        text-align: right;\n",
       "    }\n",
       "</style>\n",
       "<table border=\"1\" class=\"dataframe\">\n",
       "  <thead>\n",
       "    <tr style=\"text-align: right;\">\n",
       "      <th></th>\n",
       "      <th>predictor</th>\n",
       "      <th>theme</th>\n",
       "      <th>text_length</th>\n",
       "      <th>text_blob_polarity</th>\n",
       "      <th>text_blob_subjectivity</th>\n",
       "      <th>vader_neg</th>\n",
       "      <th>vader_neu</th>\n",
       "      <th>vader_pos</th>\n",
       "      <th>vader_compound</th>\n",
       "    </tr>\n",
       "  </thead>\n",
       "  <tbody>\n",
       "    <tr>\n",
       "      <th>8310</th>\n",
       "      <td>excellent care</td>\n",
       "      <td>Care received</td>\n",
       "      <td>2</td>\n",
       "      <td>1.000000</td>\n",
       "      <td>1.000000</td>\n",
       "      <td>0.0</td>\n",
       "      <td>0.000</td>\n",
       "      <td>1.000</td>\n",
       "      <td>0.7845</td>\n",
       "    </tr>\n",
       "    <tr>\n",
       "      <th>4947</th>\n",
       "      <td>the administrators have shown such kindness to...</td>\n",
       "      <td>Staff</td>\n",
       "      <td>8</td>\n",
       "      <td>0.000000</td>\n",
       "      <td>0.500000</td>\n",
       "      <td>0.0</td>\n",
       "      <td>0.700</td>\n",
       "      <td>0.300</td>\n",
       "      <td>0.4588</td>\n",
       "    </tr>\n",
       "    <tr>\n",
       "      <th>8378</th>\n",
       "      <td>friendly professional as you would except exce...</td>\n",
       "      <td>Staff</td>\n",
       "      <td>8</td>\n",
       "      <td>0.491667</td>\n",
       "      <td>0.533333</td>\n",
       "      <td>0.0</td>\n",
       "      <td>0.451</td>\n",
       "      <td>0.549</td>\n",
       "      <td>0.8074</td>\n",
       "    </tr>\n",
       "    <tr>\n",
       "      <th>1292</th>\n",
       "      <td>fantastic support care by all staff</td>\n",
       "      <td>Care received</td>\n",
       "      <td>7</td>\n",
       "      <td>0.400000</td>\n",
       "      <td>0.900000</td>\n",
       "      <td>0.0</td>\n",
       "      <td>0.240</td>\n",
       "      <td>0.760</td>\n",
       "      <td>0.8591</td>\n",
       "    </tr>\n",
       "    <tr>\n",
       "      <th>7509</th>\n",
       "      <td>thank you to all the wonderful staff who cared...</td>\n",
       "      <td>Staff</td>\n",
       "      <td>11</td>\n",
       "      <td>1.000000</td>\n",
       "      <td>1.000000</td>\n",
       "      <td>0.0</td>\n",
       "      <td>0.471</td>\n",
       "      <td>0.529</td>\n",
       "      <td>0.8402</td>\n",
       "    </tr>\n",
       "    <tr>\n",
       "      <th>...</th>\n",
       "      <td>...</td>\n",
       "      <td>...</td>\n",
       "      <td>...</td>\n",
       "      <td>...</td>\n",
       "      <td>...</td>\n",
       "      <td>...</td>\n",
       "      <td>...</td>\n",
       "      <td>...</td>\n",
       "      <td>...</td>\n",
       "    </tr>\n",
       "    <tr>\n",
       "      <th>3748</th>\n",
       "      <td>I was very pleased with the services provided ...</td>\n",
       "      <td>Care received</td>\n",
       "      <td>11</td>\n",
       "      <td>0.650000</td>\n",
       "      <td>1.000000</td>\n",
       "      <td>0.0</td>\n",
       "      <td>0.758</td>\n",
       "      <td>0.242</td>\n",
       "      <td>0.4927</td>\n",
       "    </tr>\n",
       "    <tr>\n",
       "      <th>9317</th>\n",
       "      <td>nothing</td>\n",
       "      <td>Couldn't be improved</td>\n",
       "      <td>1</td>\n",
       "      <td>0.000000</td>\n",
       "      <td>0.000000</td>\n",
       "      <td>0.0</td>\n",
       "      <td>1.000</td>\n",
       "      <td>0.000</td>\n",
       "      <td>0.0000</td>\n",
       "    </tr>\n",
       "    <tr>\n",
       "      <th>1965</th>\n",
       "      <td>make sure that I knew what the vaccine helped ...</td>\n",
       "      <td>Communication</td>\n",
       "      <td>10</td>\n",
       "      <td>0.500000</td>\n",
       "      <td>0.888889</td>\n",
       "      <td>0.0</td>\n",
       "      <td>0.796</td>\n",
       "      <td>0.204</td>\n",
       "      <td>0.3182</td>\n",
       "    </tr>\n",
       "    <tr>\n",
       "      <th>4966</th>\n",
       "      <td>the care has been first class everything was d...</td>\n",
       "      <td>Care received</td>\n",
       "      <td>15</td>\n",
       "      <td>0.312500</td>\n",
       "      <td>0.333333</td>\n",
       "      <td>0.0</td>\n",
       "      <td>0.700</td>\n",
       "      <td>0.300</td>\n",
       "      <td>0.7177</td>\n",
       "    </tr>\n",
       "    <tr>\n",
       "      <th>6365</th>\n",
       "      <td>everyone was kind and caring I was put at ease...</td>\n",
       "      <td>Staff</td>\n",
       "      <td>16</td>\n",
       "      <td>0.600000</td>\n",
       "      <td>0.900000</td>\n",
       "      <td>0.0</td>\n",
       "      <td>0.588</td>\n",
       "      <td>0.412</td>\n",
       "      <td>0.8442</td>\n",
       "    </tr>\n",
       "  </tbody>\n",
       "</table>\n",
       "<p>6878 rows × 9 columns</p>\n",
       "</div>"
      ],
      "text/plain": [
       "                                              predictor  ... vader_compound\n",
       "8310                                     excellent care  ...         0.7845\n",
       "4947  the administrators have shown such kindness to...  ...         0.4588\n",
       "8378  friendly professional as you would except exce...  ...         0.8074\n",
       "1292                fantastic support care by all staff  ...         0.8591\n",
       "7509  thank you to all the wonderful staff who cared...  ...         0.8402\n",
       "...                                                 ...  ...            ...\n",
       "3748  I was very pleased with the services provided ...  ...         0.4927\n",
       "9317                                            nothing  ...         0.0000\n",
       "1965  make sure that I knew what the vaccine helped ...  ...         0.3182\n",
       "4966  the care has been first class everything was d...  ...         0.7177\n",
       "6365  everyone was kind and caring I was put at ease...  ...         0.8442\n",
       "\n",
       "[6878 rows x 9 columns]"
      ]
     },
     "execution_count": 5,
     "metadata": {},
     "output_type": "execute_result"
    }
   ],
   "source": [
    "x_train"
   ]
  },
  {
   "cell_type": "code",
   "execution_count": null,
   "id": "ebeea988",
   "metadata": {},
   "outputs": [],
   "source": []
  },
  {
   "cell_type": "code",
   "execution_count": 13,
   "id": "2a29dfca",
   "metadata": {},
   "outputs": [],
   "source": [
    "from sklearn import set_config; set_config(display='diagram')\n",
    "features_text = 'predictor'\n",
    "# Define transformers for pipeline #\n",
    "# Transformer that calculates text length and transforms it.\n",
    "transformer_text_length = Pipeline(steps=[\n",
    "    ('length', (FunctionTransformer(text_length))),\n",
    "    ('scaler', (ScalerSwitcher()))\n",
    "])\n",
    "\n",
    "# Transformer that calculates sentiment indicators (e.g. TextBlob, VADER) and transforms them.\n",
    "transformer_sentiment = Pipeline(steps=[\n",
    "    ('sentiment', (FunctionTransformer(sentiment_scores))),\n",
    "    ('scaler', (ScalerSwitcher()))\n",
    "])\n",
    "\n",
    "# Transformer that converts text to Bag-of-Words or embeddings.\n",
    "transformer_text = Pipeline(steps=[\n",
    "    ('text', (TextTransformerSwitcher()))\n",
    "])\n",
    "\n",
    "# Gather transformers.s\n",
    "preprocessor = ColumnTransformer(\n",
    "    transformers=[\n",
    "        ('sentimenttr', transformer_sentiment, features_text),\n",
    "        ('lengthtr', transformer_text_length, features_text),\n",
    "        ('texttr', transformer_text, features_text)])\n",
    "\n",
    "# Up-sampling step #\n",
    "oversampler = FunctionSampler(func=random_over_sampler_data_generator,\n",
    "                              kw_args={'threshold': 200,\n",
    "                                       'up_balancing_counts': 300,\n",
    "                                       'random_state': 0},\n",
    "                              validate=False)"
   ]
  },
  {
   "cell_type": "code",
   "execution_count": 14,
   "id": "83f802f2",
   "metadata": {},
   "outputs": [
    {
     "data": {
      "text/html": [
       "<style>div.sk-top-container {color: black;background-color: white;}div.sk-toggleable {background-color: white;}label.sk-toggleable__label {cursor: pointer;display: block;width: 100%;margin-bottom: 0;padding: 0.2em 0.3em;box-sizing: border-box;text-align: center;}div.sk-toggleable__content {max-height: 0;max-width: 0;overflow: hidden;text-align: left;background-color: #f0f8ff;}div.sk-toggleable__content pre {margin: 0.2em;color: black;border-radius: 0.25em;background-color: #f0f8ff;}input.sk-toggleable__control:checked~div.sk-toggleable__content {max-height: 200px;max-width: 100%;overflow: auto;}div.sk-estimator input.sk-toggleable__control:checked~label.sk-toggleable__label {background-color: #d4ebff;}div.sk-label input.sk-toggleable__control:checked~label.sk-toggleable__label {background-color: #d4ebff;}input.sk-hidden--visually {border: 0;clip: rect(1px 1px 1px 1px);clip: rect(1px, 1px, 1px, 1px);height: 1px;margin: -1px;overflow: hidden;padding: 0;position: absolute;width: 1px;}div.sk-estimator {font-family: monospace;background-color: #f0f8ff;margin: 0.25em 0.25em;border: 1px dotted black;border-radius: 0.25em;box-sizing: border-box;}div.sk-estimator:hover {background-color: #d4ebff;}div.sk-parallel-item::after {content: \"\";width: 100%;border-bottom: 1px solid gray;flex-grow: 1;}div.sk-label:hover label.sk-toggleable__label {background-color: #d4ebff;}div.sk-serial::before {content: \"\";position: absolute;border-left: 1px solid gray;box-sizing: border-box;top: 2em;bottom: 0;left: 50%;}div.sk-serial {display: flex;flex-direction: column;align-items: center;background-color: white;}div.sk-item {z-index: 1;}div.sk-parallel {display: flex;align-items: stretch;justify-content: center;background-color: white;}div.sk-parallel-item {display: flex;flex-direction: column;position: relative;background-color: white;}div.sk-parallel-item:first-child::after {align-self: flex-end;width: 50%;}div.sk-parallel-item:last-child::after {align-self: flex-start;width: 50%;}div.sk-parallel-item:only-child::after {width: 0;}div.sk-dashed-wrapped {border: 1px dashed gray;margin: 0.2em;box-sizing: border-box;padding-bottom: 0.1em;background-color: white;position: relative;}div.sk-label label {font-family: monospace;font-weight: bold;background-color: white;display: inline-block;line-height: 1.2em;}div.sk-label-container {position: relative;z-index: 2;text-align: center;}div.sk-container {display: inline-block;position: relative;}</style><div class=\"sk-top-container\"><div class=\"sk-container\"><div class=\"sk-item sk-dashed-wrapped\"><div class=\"sk-label-container\"><div class=\"sk-label sk-toggleable\"><input class=\"sk-toggleable__control sk-hidden--visually\" id=\"339e739a-e729-4f27-bbb7-d63613e71401\" type=\"checkbox\" ><label class=\"sk-toggleable__label\" for=\"339e739a-e729-4f27-bbb7-d63613e71401\">Pipeline</label><div class=\"sk-toggleable__content\"><pre>Pipeline(steps=[('length',\n",
       "                 FunctionTransformer(func=<function text_length at 0x7f1260f37040>)),\n",
       "                ('scaler', ScalerSwitcher())])</pre></div></div></div><div class=\"sk-serial\"><div class=\"sk-item\"><div class=\"sk-estimator sk-toggleable\"><input class=\"sk-toggleable__control sk-hidden--visually\" id=\"3f8fb4b8-2937-4067-a30f-90d0048ac6f8\" type=\"checkbox\" ><label class=\"sk-toggleable__label\" for=\"3f8fb4b8-2937-4067-a30f-90d0048ac6f8\">FunctionTransformer</label><div class=\"sk-toggleable__content\"><pre>FunctionTransformer(func=<function text_length at 0x7f1260f37040>)</pre></div></div></div><div class=\"sk-item sk-dashed-wrapped\"><div class=\"sk-label-container\"><div class=\"sk-label sk-toggleable\"><input class=\"sk-toggleable__control sk-hidden--visually\" id=\"1d33df12-0437-4637-a7a4-daf3510790b9\" type=\"checkbox\" ><label class=\"sk-toggleable__label\" for=\"1d33df12-0437-4637-a7a4-daf3510790b9\">scaler: ScalerSwitcher</label><div class=\"sk-toggleable__content\"><pre>ScalerSwitcher()</pre></div></div></div><div class=\"sk-parallel\"><div class=\"sk-parallel-item\"><div class=\"sk-item\"><div class=\"sk-serial\"><div class=\"sk-item\"><div class=\"sk-estimator sk-toggleable\"><input class=\"sk-toggleable__control sk-hidden--visually\" id=\"db169f6d-bd1c-4018-b607-b5a44809cf5a\" type=\"checkbox\" ><label class=\"sk-toggleable__label\" for=\"db169f6d-bd1c-4018-b607-b5a44809cf5a\">MinMaxScaler</label><div class=\"sk-toggleable__content\"><pre>MinMaxScaler()</pre></div></div></div></div></div></div></div></div></div></div></div></div>"
      ],
      "text/plain": [
       "Pipeline(steps=[('length',\n",
       "                 FunctionTransformer(func=<function text_length at 0x7f1260f37040>)),\n",
       "                ('scaler', ScalerSwitcher())])"
      ]
     },
     "execution_count": 14,
     "metadata": {},
     "output_type": "execute_result"
    }
   ],
   "source": [
    "transformer_text_length"
   ]
  },
  {
   "cell_type": "code",
   "execution_count": 15,
   "id": "152eb2dc",
   "metadata": {},
   "outputs": [
    {
     "data": {
      "text/html": [
       "<style>div.sk-top-container {color: black;background-color: white;}div.sk-toggleable {background-color: white;}label.sk-toggleable__label {cursor: pointer;display: block;width: 100%;margin-bottom: 0;padding: 0.2em 0.3em;box-sizing: border-box;text-align: center;}div.sk-toggleable__content {max-height: 0;max-width: 0;overflow: hidden;text-align: left;background-color: #f0f8ff;}div.sk-toggleable__content pre {margin: 0.2em;color: black;border-radius: 0.25em;background-color: #f0f8ff;}input.sk-toggleable__control:checked~div.sk-toggleable__content {max-height: 200px;max-width: 100%;overflow: auto;}div.sk-estimator input.sk-toggleable__control:checked~label.sk-toggleable__label {background-color: #d4ebff;}div.sk-label input.sk-toggleable__control:checked~label.sk-toggleable__label {background-color: #d4ebff;}input.sk-hidden--visually {border: 0;clip: rect(1px 1px 1px 1px);clip: rect(1px, 1px, 1px, 1px);height: 1px;margin: -1px;overflow: hidden;padding: 0;position: absolute;width: 1px;}div.sk-estimator {font-family: monospace;background-color: #f0f8ff;margin: 0.25em 0.25em;border: 1px dotted black;border-radius: 0.25em;box-sizing: border-box;}div.sk-estimator:hover {background-color: #d4ebff;}div.sk-parallel-item::after {content: \"\";width: 100%;border-bottom: 1px solid gray;flex-grow: 1;}div.sk-label:hover label.sk-toggleable__label {background-color: #d4ebff;}div.sk-serial::before {content: \"\";position: absolute;border-left: 1px solid gray;box-sizing: border-box;top: 2em;bottom: 0;left: 50%;}div.sk-serial {display: flex;flex-direction: column;align-items: center;background-color: white;}div.sk-item {z-index: 1;}div.sk-parallel {display: flex;align-items: stretch;justify-content: center;background-color: white;}div.sk-parallel-item {display: flex;flex-direction: column;position: relative;background-color: white;}div.sk-parallel-item:first-child::after {align-self: flex-end;width: 50%;}div.sk-parallel-item:last-child::after {align-self: flex-start;width: 50%;}div.sk-parallel-item:only-child::after {width: 0;}div.sk-dashed-wrapped {border: 1px dashed gray;margin: 0.2em;box-sizing: border-box;padding-bottom: 0.1em;background-color: white;position: relative;}div.sk-label label {font-family: monospace;font-weight: bold;background-color: white;display: inline-block;line-height: 1.2em;}div.sk-label-container {position: relative;z-index: 2;text-align: center;}div.sk-container {display: inline-block;position: relative;}</style><div class=\"sk-top-container\"><div class=\"sk-container\"><div class=\"sk-item sk-dashed-wrapped\"><div class=\"sk-label-container\"><div class=\"sk-label sk-toggleable\"><input class=\"sk-toggleable__control sk-hidden--visually\" id=\"7645b771-a704-4f0e-8146-cf70e8e9c263\" type=\"checkbox\" ><label class=\"sk-toggleable__label\" for=\"7645b771-a704-4f0e-8146-cf70e8e9c263\">Pipeline</label><div class=\"sk-toggleable__content\"><pre>Pipeline(steps=[('sentiment',\n",
       "                 FunctionTransformer(func=<function sentiment_scores at 0x7f1260f371f0>)),\n",
       "                ('scaler', ScalerSwitcher())])</pre></div></div></div><div class=\"sk-serial\"><div class=\"sk-item\"><div class=\"sk-estimator sk-toggleable\"><input class=\"sk-toggleable__control sk-hidden--visually\" id=\"bdd56990-acfd-456b-aaf2-863fc0d69464\" type=\"checkbox\" ><label class=\"sk-toggleable__label\" for=\"bdd56990-acfd-456b-aaf2-863fc0d69464\">FunctionTransformer</label><div class=\"sk-toggleable__content\"><pre>FunctionTransformer(func=<function sentiment_scores at 0x7f1260f371f0>)</pre></div></div></div><div class=\"sk-item sk-dashed-wrapped\"><div class=\"sk-label-container\"><div class=\"sk-label sk-toggleable\"><input class=\"sk-toggleable__control sk-hidden--visually\" id=\"bb30d534-853e-41d1-9d6c-7a17f4d4b815\" type=\"checkbox\" ><label class=\"sk-toggleable__label\" for=\"bb30d534-853e-41d1-9d6c-7a17f4d4b815\">scaler: ScalerSwitcher</label><div class=\"sk-toggleable__content\"><pre>ScalerSwitcher()</pre></div></div></div><div class=\"sk-parallel\"><div class=\"sk-parallel-item\"><div class=\"sk-item\"><div class=\"sk-serial\"><div class=\"sk-item\"><div class=\"sk-estimator sk-toggleable\"><input class=\"sk-toggleable__control sk-hidden--visually\" id=\"279a6d35-20ea-4856-a46a-3e0c778f8fe6\" type=\"checkbox\" ><label class=\"sk-toggleable__label\" for=\"279a6d35-20ea-4856-a46a-3e0c778f8fe6\">MinMaxScaler</label><div class=\"sk-toggleable__content\"><pre>MinMaxScaler()</pre></div></div></div></div></div></div></div></div></div></div></div></div>"
      ],
      "text/plain": [
       "Pipeline(steps=[('sentiment',\n",
       "                 FunctionTransformer(func=<function sentiment_scores at 0x7f1260f371f0>)),\n",
       "                ('scaler', ScalerSwitcher())])"
      ]
     },
     "execution_count": 15,
     "metadata": {},
     "output_type": "execute_result"
    }
   ],
   "source": [
    "transformer_sentiment"
   ]
  },
  {
   "cell_type": "code",
   "execution_count": 16,
   "id": "63fd384c",
   "metadata": {},
   "outputs": [
    {
     "data": {
      "text/html": [
       "<style>div.sk-top-container {color: black;background-color: white;}div.sk-toggleable {background-color: white;}label.sk-toggleable__label {cursor: pointer;display: block;width: 100%;margin-bottom: 0;padding: 0.2em 0.3em;box-sizing: border-box;text-align: center;}div.sk-toggleable__content {max-height: 0;max-width: 0;overflow: hidden;text-align: left;background-color: #f0f8ff;}div.sk-toggleable__content pre {margin: 0.2em;color: black;border-radius: 0.25em;background-color: #f0f8ff;}input.sk-toggleable__control:checked~div.sk-toggleable__content {max-height: 200px;max-width: 100%;overflow: auto;}div.sk-estimator input.sk-toggleable__control:checked~label.sk-toggleable__label {background-color: #d4ebff;}div.sk-label input.sk-toggleable__control:checked~label.sk-toggleable__label {background-color: #d4ebff;}input.sk-hidden--visually {border: 0;clip: rect(1px 1px 1px 1px);clip: rect(1px, 1px, 1px, 1px);height: 1px;margin: -1px;overflow: hidden;padding: 0;position: absolute;width: 1px;}div.sk-estimator {font-family: monospace;background-color: #f0f8ff;margin: 0.25em 0.25em;border: 1px dotted black;border-radius: 0.25em;box-sizing: border-box;}div.sk-estimator:hover {background-color: #d4ebff;}div.sk-parallel-item::after {content: \"\";width: 100%;border-bottom: 1px solid gray;flex-grow: 1;}div.sk-label:hover label.sk-toggleable__label {background-color: #d4ebff;}div.sk-serial::before {content: \"\";position: absolute;border-left: 1px solid gray;box-sizing: border-box;top: 2em;bottom: 0;left: 50%;}div.sk-serial {display: flex;flex-direction: column;align-items: center;background-color: white;}div.sk-item {z-index: 1;}div.sk-parallel {display: flex;align-items: stretch;justify-content: center;background-color: white;}div.sk-parallel-item {display: flex;flex-direction: column;position: relative;background-color: white;}div.sk-parallel-item:first-child::after {align-self: flex-end;width: 50%;}div.sk-parallel-item:last-child::after {align-self: flex-start;width: 50%;}div.sk-parallel-item:only-child::after {width: 0;}div.sk-dashed-wrapped {border: 1px dashed gray;margin: 0.2em;box-sizing: border-box;padding-bottom: 0.1em;background-color: white;position: relative;}div.sk-label label {font-family: monospace;font-weight: bold;background-color: white;display: inline-block;line-height: 1.2em;}div.sk-label-container {position: relative;z-index: 2;text-align: center;}div.sk-container {display: inline-block;position: relative;}</style><div class=\"sk-top-container\"><div class=\"sk-container\"><div class=\"sk-item sk-dashed-wrapped\"><div class=\"sk-label-container\"><div class=\"sk-label sk-toggleable\"><input class=\"sk-toggleable__control sk-hidden--visually\" id=\"def9c782-2b91-4ab6-8a6d-93a860e9fc80\" type=\"checkbox\" ><label class=\"sk-toggleable__label\" for=\"def9c782-2b91-4ab6-8a6d-93a860e9fc80\">Pipeline</label><div class=\"sk-toggleable__content\"><pre>Pipeline(steps=[('text', TextTransformerSwitcher())])</pre></div></div></div><div class=\"sk-serial\"><div class=\"sk-item sk-dashed-wrapped\"><div class=\"sk-label-container\"><div class=\"sk-label sk-toggleable\"><input class=\"sk-toggleable__control sk-hidden--visually\" id=\"225accf1-4189-4812-8e5c-bd818cc04eef\" type=\"checkbox\" ><label class=\"sk-toggleable__label\" for=\"225accf1-4189-4812-8e5c-bd818cc04eef\">text: TextTransformerSwitcher</label><div class=\"sk-toggleable__content\"><pre>TextTransformerSwitcher()</pre></div></div></div><div class=\"sk-parallel\"><div class=\"sk-parallel-item\"><div class=\"sk-item\"><div class=\"sk-serial\"><div class=\"sk-item\"><div class=\"sk-estimator sk-toggleable\"><input class=\"sk-toggleable__control sk-hidden--visually\" id=\"27d06306-460e-4947-a642-80f21e68402b\" type=\"checkbox\" ><label class=\"sk-toggleable__label\" for=\"27d06306-460e-4947-a642-80f21e68402b\">TfidfVectorizer</label><div class=\"sk-toggleable__content\"><pre>TfidfVectorizer()</pre></div></div></div></div></div></div></div></div></div></div></div></div>"
      ],
      "text/plain": [
       "Pipeline(steps=[('text', TextTransformerSwitcher())])"
      ]
     },
     "execution_count": 16,
     "metadata": {},
     "output_type": "execute_result"
    }
   ],
   "source": [
    "transformer_text"
   ]
  },
  {
   "cell_type": "code",
   "execution_count": 17,
   "id": "298398a3",
   "metadata": {},
   "outputs": [
    {
     "data": {
      "text/html": [
       "<style>div.sk-top-container {color: black;background-color: white;}div.sk-toggleable {background-color: white;}label.sk-toggleable__label {cursor: pointer;display: block;width: 100%;margin-bottom: 0;padding: 0.2em 0.3em;box-sizing: border-box;text-align: center;}div.sk-toggleable__content {max-height: 0;max-width: 0;overflow: hidden;text-align: left;background-color: #f0f8ff;}div.sk-toggleable__content pre {margin: 0.2em;color: black;border-radius: 0.25em;background-color: #f0f8ff;}input.sk-toggleable__control:checked~div.sk-toggleable__content {max-height: 200px;max-width: 100%;overflow: auto;}div.sk-estimator input.sk-toggleable__control:checked~label.sk-toggleable__label {background-color: #d4ebff;}div.sk-label input.sk-toggleable__control:checked~label.sk-toggleable__label {background-color: #d4ebff;}input.sk-hidden--visually {border: 0;clip: rect(1px 1px 1px 1px);clip: rect(1px, 1px, 1px, 1px);height: 1px;margin: -1px;overflow: hidden;padding: 0;position: absolute;width: 1px;}div.sk-estimator {font-family: monospace;background-color: #f0f8ff;margin: 0.25em 0.25em;border: 1px dotted black;border-radius: 0.25em;box-sizing: border-box;}div.sk-estimator:hover {background-color: #d4ebff;}div.sk-parallel-item::after {content: \"\";width: 100%;border-bottom: 1px solid gray;flex-grow: 1;}div.sk-label:hover label.sk-toggleable__label {background-color: #d4ebff;}div.sk-serial::before {content: \"\";position: absolute;border-left: 1px solid gray;box-sizing: border-box;top: 2em;bottom: 0;left: 50%;}div.sk-serial {display: flex;flex-direction: column;align-items: center;background-color: white;}div.sk-item {z-index: 1;}div.sk-parallel {display: flex;align-items: stretch;justify-content: center;background-color: white;}div.sk-parallel-item {display: flex;flex-direction: column;position: relative;background-color: white;}div.sk-parallel-item:first-child::after {align-self: flex-end;width: 50%;}div.sk-parallel-item:last-child::after {align-self: flex-start;width: 50%;}div.sk-parallel-item:only-child::after {width: 0;}div.sk-dashed-wrapped {border: 1px dashed gray;margin: 0.2em;box-sizing: border-box;padding-bottom: 0.1em;background-color: white;position: relative;}div.sk-label label {font-family: monospace;font-weight: bold;background-color: white;display: inline-block;line-height: 1.2em;}div.sk-label-container {position: relative;z-index: 2;text-align: center;}div.sk-container {display: inline-block;position: relative;}</style><div class=\"sk-top-container\"><div class=\"sk-container\"><div class=\"sk-item sk-dashed-wrapped\"><div class=\"sk-label-container\"><div class=\"sk-label sk-toggleable\"><input class=\"sk-toggleable__control sk-hidden--visually\" id=\"d1cc5e65-fa89-4dd6-9bba-d5de23cb346a\" type=\"checkbox\" ><label class=\"sk-toggleable__label\" for=\"d1cc5e65-fa89-4dd6-9bba-d5de23cb346a\">ColumnTransformer</label><div class=\"sk-toggleable__content\"><pre>ColumnTransformer(transformers=[('sentimenttr',\n",
       "                                 Pipeline(steps=[('sentiment',\n",
       "                                                  FunctionTransformer(func=<function sentiment_scores at 0x7f1260f371f0>)),\n",
       "                                                 ('scaler', ScalerSwitcher())]),\n",
       "                                 'predictor'),\n",
       "                                ('lengthtr',\n",
       "                                 Pipeline(steps=[('length',\n",
       "                                                  FunctionTransformer(func=<function text_length at 0x7f1260f37040>)),\n",
       "                                                 ('scaler', ScalerSwitcher())]),\n",
       "                                 'predictor'),\n",
       "                                ('texttr',\n",
       "                                 Pipeline(steps=[('text',\n",
       "                                                  TextTransformerSwitcher())]),\n",
       "                                 'predictor')])</pre></div></div></div><div class=\"sk-parallel\"><div class=\"sk-parallel-item\"><div class=\"sk-item\"><div class=\"sk-label-container\"><div class=\"sk-label sk-toggleable\"><input class=\"sk-toggleable__control sk-hidden--visually\" id=\"cf1ac80f-ed4b-49f0-ac93-6ff3b446270f\" type=\"checkbox\" ><label class=\"sk-toggleable__label\" for=\"cf1ac80f-ed4b-49f0-ac93-6ff3b446270f\">sentimenttr</label><div class=\"sk-toggleable__content\"><pre>predictor</pre></div></div></div><div class=\"sk-serial\"><div class=\"sk-item\"><div class=\"sk-serial\"><div class=\"sk-item\"><div class=\"sk-estimator sk-toggleable\"><input class=\"sk-toggleable__control sk-hidden--visually\" id=\"bee13938-7789-4422-b431-cf5fe071e6b9\" type=\"checkbox\" ><label class=\"sk-toggleable__label\" for=\"bee13938-7789-4422-b431-cf5fe071e6b9\">FunctionTransformer</label><div class=\"sk-toggleable__content\"><pre>FunctionTransformer(func=<function sentiment_scores at 0x7f1260f371f0>)</pre></div></div></div><div class=\"sk-item sk-dashed-wrapped\"><div class=\"sk-label-container\"><div class=\"sk-label sk-toggleable\"><input class=\"sk-toggleable__control sk-hidden--visually\" id=\"916ffc2a-08c6-4514-9690-d7800d05e7ce\" type=\"checkbox\" ><label class=\"sk-toggleable__label\" for=\"916ffc2a-08c6-4514-9690-d7800d05e7ce\">scaler: ScalerSwitcher</label><div class=\"sk-toggleable__content\"><pre>ScalerSwitcher()</pre></div></div></div><div class=\"sk-parallel\"><div class=\"sk-parallel-item\"><div class=\"sk-item\"><div class=\"sk-serial\"><div class=\"sk-item\"><div class=\"sk-estimator sk-toggleable\"><input class=\"sk-toggleable__control sk-hidden--visually\" id=\"b9866f6c-855c-48e3-aeec-eddef9ad386e\" type=\"checkbox\" ><label class=\"sk-toggleable__label\" for=\"b9866f6c-855c-48e3-aeec-eddef9ad386e\">MinMaxScaler</label><div class=\"sk-toggleable__content\"><pre>MinMaxScaler()</pre></div></div></div></div></div></div></div></div></div></div></div></div></div><div class=\"sk-parallel-item\"><div class=\"sk-item\"><div class=\"sk-label-container\"><div class=\"sk-label sk-toggleable\"><input class=\"sk-toggleable__control sk-hidden--visually\" id=\"cf697bc5-c881-4ec9-8c37-bbe762dbb178\" type=\"checkbox\" ><label class=\"sk-toggleable__label\" for=\"cf697bc5-c881-4ec9-8c37-bbe762dbb178\">lengthtr</label><div class=\"sk-toggleable__content\"><pre>predictor</pre></div></div></div><div class=\"sk-serial\"><div class=\"sk-item\"><div class=\"sk-serial\"><div class=\"sk-item\"><div class=\"sk-estimator sk-toggleable\"><input class=\"sk-toggleable__control sk-hidden--visually\" id=\"644e24f3-bb07-45a9-9f3b-04accd79f54c\" type=\"checkbox\" ><label class=\"sk-toggleable__label\" for=\"644e24f3-bb07-45a9-9f3b-04accd79f54c\">FunctionTransformer</label><div class=\"sk-toggleable__content\"><pre>FunctionTransformer(func=<function text_length at 0x7f1260f37040>)</pre></div></div></div><div class=\"sk-item sk-dashed-wrapped\"><div class=\"sk-label-container\"><div class=\"sk-label sk-toggleable\"><input class=\"sk-toggleable__control sk-hidden--visually\" id=\"0891fe5f-4383-470c-a9c8-98ff6db022ce\" type=\"checkbox\" ><label class=\"sk-toggleable__label\" for=\"0891fe5f-4383-470c-a9c8-98ff6db022ce\">scaler: ScalerSwitcher</label><div class=\"sk-toggleable__content\"><pre>ScalerSwitcher()</pre></div></div></div><div class=\"sk-parallel\"><div class=\"sk-parallel-item\"><div class=\"sk-item\"><div class=\"sk-serial\"><div class=\"sk-item\"><div class=\"sk-estimator sk-toggleable\"><input class=\"sk-toggleable__control sk-hidden--visually\" id=\"acd2e890-470b-47c4-b258-68471cb3e275\" type=\"checkbox\" ><label class=\"sk-toggleable__label\" for=\"acd2e890-470b-47c4-b258-68471cb3e275\">MinMaxScaler</label><div class=\"sk-toggleable__content\"><pre>MinMaxScaler()</pre></div></div></div></div></div></div></div></div></div></div></div></div></div><div class=\"sk-parallel-item\"><div class=\"sk-item\"><div class=\"sk-label-container\"><div class=\"sk-label sk-toggleable\"><input class=\"sk-toggleable__control sk-hidden--visually\" id=\"1a849464-b1e1-4939-8007-7f2443ca6b22\" type=\"checkbox\" ><label class=\"sk-toggleable__label\" for=\"1a849464-b1e1-4939-8007-7f2443ca6b22\">texttr</label><div class=\"sk-toggleable__content\"><pre>predictor</pre></div></div></div><div class=\"sk-serial\"><div class=\"sk-item\"><div class=\"sk-serial\"><div class=\"sk-item sk-dashed-wrapped\"><div class=\"sk-label-container\"><div class=\"sk-label sk-toggleable\"><input class=\"sk-toggleable__control sk-hidden--visually\" id=\"96b1d130-dae2-447b-9a3a-6c96a84147af\" type=\"checkbox\" ><label class=\"sk-toggleable__label\" for=\"96b1d130-dae2-447b-9a3a-6c96a84147af\">text: TextTransformerSwitcher</label><div class=\"sk-toggleable__content\"><pre>TextTransformerSwitcher()</pre></div></div></div><div class=\"sk-parallel\"><div class=\"sk-parallel-item\"><div class=\"sk-item\"><div class=\"sk-serial\"><div class=\"sk-item\"><div class=\"sk-estimator sk-toggleable\"><input class=\"sk-toggleable__control sk-hidden--visually\" id=\"0aae7996-9030-4523-9359-0a3f01f00a77\" type=\"checkbox\" ><label class=\"sk-toggleable__label\" for=\"0aae7996-9030-4523-9359-0a3f01f00a77\">TfidfVectorizer</label><div class=\"sk-toggleable__content\"><pre>TfidfVectorizer()</pre></div></div></div></div></div></div></div></div></div></div></div></div></div></div></div></div></div>"
      ],
      "text/plain": [
       "ColumnTransformer(transformers=[('sentimenttr',\n",
       "                                 Pipeline(steps=[('sentiment',\n",
       "                                                  FunctionTransformer(func=<function sentiment_scores at 0x7f1260f371f0>)),\n",
       "                                                 ('scaler', ScalerSwitcher())]),\n",
       "                                 'predictor'),\n",
       "                                ('lengthtr',\n",
       "                                 Pipeline(steps=[('length',\n",
       "                                                  FunctionTransformer(func=<function text_length at 0x7f1260f37040>)),\n",
       "                                                 ('scaler', ScalerSwitcher())]),\n",
       "                                 'predictor'),\n",
       "                                ('texttr',\n",
       "                                 Pipeline(steps=[('text',\n",
       "                                                  TextTransformerSwitcher())]),\n",
       "                                 'predictor')])"
      ]
     },
     "execution_count": 17,
     "metadata": {},
     "output_type": "execute_result"
    }
   ],
   "source": [
    "preprocessor"
   ]
  },
  {
   "cell_type": "code",
   "execution_count": null,
   "id": "fb55f462",
   "metadata": {},
   "outputs": [],
   "source": [
    "# num_transformer = make_pipeline(SimpleImputer(), StandardScaler())\n",
    "# cat_transformer = OneHotEncoder()\n",
    "\n",
    "# preproc_basic = make_column_transformer(\n",
    "#     (num_transformer, ['age', 'bmi']),\n",
    "#     (cat_transformer, ['smoker', 'region']),\n",
    "#     remainder='passthrough'\n",
    "# )\n",
    "\n",
    "# preproc_full = make_union(preproc_basic, bmi_age_ratio_constructor)\n",
    "\n",
    "# preproc_full"
   ]
  },
  {
   "cell_type": "code",
   "execution_count": null,
   "id": "2cac48bd",
   "metadata": {},
   "outputs": [],
   "source": []
  },
  {
   "cell_type": "code",
   "execution_count": null,
   "id": "c9cc3215",
   "metadata": {},
   "outputs": [],
   "source": []
  }
 ],
 "metadata": {
  "kernelspec": {
   "display_name": "Python 3 (ipykernel)",
   "language": "python",
   "name": "python3"
  },
  "language_info": {
   "codemirror_mode": {
    "name": "ipython",
    "version": 3
   },
   "file_extension": ".py",
   "mimetype": "text/x-python",
   "name": "python",
   "nbconvert_exporter": "python",
   "pygments_lexer": "ipython3",
   "version": "3.8.12"
  },
  "toc": {
   "base_numbering": 1,
   "nav_menu": {},
   "number_sections": true,
   "sideBar": true,
   "skip_h1_title": false,
   "title_cell": "Table of Contents",
   "title_sidebar": "Contents",
   "toc_cell": false,
   "toc_position": {},
   "toc_section_display": true,
   "toc_window_display": false
  }
 },
 "nbformat": 4,
 "nbformat_minor": 5
}
